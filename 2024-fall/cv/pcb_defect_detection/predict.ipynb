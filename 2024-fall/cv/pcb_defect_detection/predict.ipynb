{
 "cells": [
  {
   "cell_type": "code",
   "execution_count": 32,
   "metadata": {},
   "outputs": [],
   "source": [
    "from ultralytics import YOLO\n",
    "\n",
    "# Load a model\n",
    "model = YOLO(\"pcb_component_detection/v2/weights/best.pt\")"
   ]
  },
  {
   "cell_type": "code",
   "execution_count": 33,
   "metadata": {},
   "outputs": [],
   "source": [
    "# import cv2\n",
    "# img = cv2.imread(\"IMG_2334.JPG\")\n",
    "# # img = cv2.cvtColor(img, cv2.COLOR_BGR2RGB)\n",
    "# img = cv2.rotate(img, cv2.ROTATE_90_CLOCKWISE)\n",
    "# img = cv2.resize(img, (640, 480))"
   ]
  },
  {
   "cell_type": "code",
   "execution_count": 34,
   "metadata": {},
   "outputs": [
    {
     "name": "stdout",
     "output_type": "stream",
     "text": [
      "\n",
      "0: 480x640 1 IC, 2 capacitors, 4 connectors, 1 resistor, 11.2ms\n",
      "Speed: 1.8ms preprocess, 11.2ms inference, 0.8ms postprocess per image at shape (1, 3, 480, 640)\n"
     ]
    }
   ],
   "source": [
    "# Run batched inference on a list of images\n",
    "results = model.predict([\"20241205_165751476_iOS.jpg\"], imgsz=640)"
   ]
  },
  {
   "cell_type": "code",
   "execution_count": 35,
   "metadata": {},
   "outputs": [
    {
     "data": {
      "text/plain": [
       "ultralytics.engine.results.Boxes object with attributes:\n",
       "\n",
       "cls: tensor([ 0.,  6., 13.,  4.,  4.,  6.,  6.,  6.], device='cuda:0')\n",
       "conf: tensor([0.8858, 0.7469, 0.7403, 0.5869, 0.5397, 0.4435, 0.3792, 0.3736], device='cuda:0')\n",
       "data: tensor([[2.2608e+03, 1.5151e+03, 2.6549e+03, 1.9249e+03, 8.8584e-01, 0.0000e+00],\n",
       "        [2.3997e+03, 1.1605e+03, 3.0800e+03, 1.4215e+03, 7.4687e-01, 6.0000e+00],\n",
       "        [1.9220e+03, 1.1720e+03, 2.1197e+03, 1.2892e+03, 7.4029e-01, 1.3000e+01],\n",
       "        [1.9207e+03, 1.3874e+03, 2.1154e+03, 1.4974e+03, 5.8686e-01, 4.0000e+00],\n",
       "        [1.9066e+03, 1.7373e+03, 2.1208e+03, 1.8586e+03, 5.3970e-01, 4.0000e+00],\n",
       "        [2.9083e+03, 1.4905e+03, 3.2447e+03, 2.1385e+03, 4.4351e-01, 6.0000e+00],\n",
       "        [1.4943e+03, 9.0894e+02, 1.8432e+03, 1.1468e+03, 3.7919e-01, 6.0000e+00],\n",
       "        [1.2951e+03, 2.6162e+03, 2.6356e+03, 3.0240e+03, 3.7359e-01, 6.0000e+00]], device='cuda:0')\n",
       "id: None\n",
       "is_track: False\n",
       "orig_shape: (3024, 4032)\n",
       "shape: torch.Size([8, 6])\n",
       "xywh: tensor([[2457.8726, 1719.9806,  394.1492,  409.7485],\n",
       "        [2739.8877, 1291.0415,  680.2981,  261.0128],\n",
       "        [2020.8491, 1230.6184,  197.6133,  117.2294],\n",
       "        [2018.0292, 1442.3975,  194.7166,  110.0133],\n",
       "        [2013.7043, 1797.9236,  214.2393,  121.2615],\n",
       "        [3076.4858, 1814.4937,  336.3840,  648.0629],\n",
       "        [1668.7180, 1027.8671,  348.9102,  237.8592],\n",
       "        [1965.3661, 2820.1072, 1340.5256,  407.7856]], device='cuda:0')\n",
       "xywhn: tensor([[0.6096, 0.5688, 0.0978, 0.1355],\n",
       "        [0.6795, 0.4269, 0.1687, 0.0863],\n",
       "        [0.5012, 0.4070, 0.0490, 0.0388],\n",
       "        [0.5005, 0.4770, 0.0483, 0.0364],\n",
       "        [0.4994, 0.5946, 0.0531, 0.0401],\n",
       "        [0.7630, 0.6000, 0.0834, 0.2143],\n",
       "        [0.4139, 0.3399, 0.0865, 0.0787],\n",
       "        [0.4874, 0.9326, 0.3325, 0.1348]], device='cuda:0')\n",
       "xyxy: tensor([[2260.7981, 1515.1063, 2654.9473, 1924.8549],\n",
       "        [2399.7385, 1160.5350, 3080.0366, 1421.5479],\n",
       "        [1922.0425, 1172.0038, 2119.6558, 1289.2332],\n",
       "        [1920.6709, 1387.3907, 2115.3875, 1497.4041],\n",
       "        [1906.5847, 1737.2928, 2120.8240, 1858.5543],\n",
       "        [2908.2939, 1490.4623, 3244.6780, 2138.5251],\n",
       "        [1494.2629,  908.9374, 1843.1731, 1146.7966],\n",
       "        [1295.1033, 2616.2144, 2635.6289, 3024.0000]], device='cuda:0')\n",
       "xyxyn: tensor([[0.5607, 0.5010, 0.6585, 0.6365],\n",
       "        [0.5952, 0.3838, 0.7639, 0.4701],\n",
       "        [0.4767, 0.3876, 0.5257, 0.4263],\n",
       "        [0.4764, 0.4588, 0.5246, 0.4952],\n",
       "        [0.4729, 0.5745, 0.5260, 0.6146],\n",
       "        [0.7213, 0.4929, 0.8047, 0.7072],\n",
       "        [0.3706, 0.3006, 0.4571, 0.3792],\n",
       "        [0.3212, 0.8652, 0.6537, 1.0000]], device='cuda:0')"
      ]
     },
     "execution_count": 35,
     "metadata": {},
     "output_type": "execute_result"
    }
   ],
   "source": [
    "results[0].boxes"
   ]
  },
  {
   "cell_type": "code",
   "execution_count": 36,
   "metadata": {},
   "outputs": [
    {
     "data": {
      "text/plain": [
       "'results2.jpg'"
      ]
     },
     "execution_count": 36,
     "metadata": {},
     "output_type": "execute_result"
    }
   ],
   "source": [
    "results[0].save(\"results2.jpg\")"
   ]
  }
 ],
 "metadata": {
  "kernelspec": {
   "display_name": "coin-counter",
   "language": "python",
   "name": "python3"
  },
  "language_info": {
   "codemirror_mode": {
    "name": "ipython",
    "version": 3
   },
   "file_extension": ".py",
   "mimetype": "text/x-python",
   "name": "python",
   "nbconvert_exporter": "python",
   "pygments_lexer": "ipython3",
   "version": "3.11.10"
  }
 },
 "nbformat": 4,
 "nbformat_minor": 2
}
