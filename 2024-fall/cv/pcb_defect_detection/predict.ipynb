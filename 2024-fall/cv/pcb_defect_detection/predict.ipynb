{
 "cells": [
  {
   "cell_type": "code",
   "execution_count": 1,
   "metadata": {},
   "outputs": [],
   "source": [
    "from ultralytics import YOLO\n",
    "\n",
    "# Load a model\n",
    "model = YOLO(\"pcb_defect/v2/weights/best.pt\")"
   ]
  },
  {
   "cell_type": "code",
   "execution_count": 2,
   "metadata": {},
   "outputs": [],
   "source": [
    "# import cv2\n",
    "# img = cv2.imread(\"IMG_2334.JPG\")\n",
    "# # img = cv2.cvtColor(img, cv2.COLOR_BGR2RGB)\n",
    "# img = cv2.rotate(img, cv2.ROTATE_90_CLOCKWISE)\n",
    "# img = cv2.resize(img, (640, 480))"
   ]
  },
  {
   "cell_type": "code",
   "execution_count": 3,
   "metadata": {},
   "outputs": [
    {
     "name": "stdout",
     "output_type": "stream",
     "text": [
      "\n",
      "0: 640x640 2 missing_holes, 8.1ms\n",
      "Speed: 3.2ms preprocess, 8.1ms inference, 70.1ms postprocess per image at shape (1, 3, 640, 640)\n"
     ]
    }
   ],
   "source": [
    "# Run batched inference on a list of images\n",
    "results = model.predict([\"dataset/pcb-defect-dataset/test/images/l_light_01_missing_hole_07_2_600.jpg\"], imgsz=640)"
   ]
  },
  {
   "cell_type": "code",
   "execution_count": 4,
   "metadata": {},
   "outputs": [
    {
     "data": {
      "text/plain": [
       "ultralytics.engine.results.Boxes object with attributes:\n",
       "\n",
       "cls: tensor([2., 2.], device='cuda:0')\n",
       "conf: tensor([0.7796, 0.7570], device='cuda:0')\n",
       "data: tensor([[220.5758, 458.7403, 272.5902, 509.4942,   0.7796,   2.0000],\n",
       "        [436.5394,  15.7579, 475.5435,  50.4489,   0.7570,   2.0000]], device='cuda:0')\n",
       "id: None\n",
       "is_track: False\n",
       "orig_shape: (600, 600)\n",
       "shape: torch.Size([2, 6])\n",
       "xywh: tensor([[246.5830, 484.1172,  52.0144,  50.7539],\n",
       "        [456.0415,  33.1034,  39.0041,  34.6910]], device='cuda:0')\n",
       "xywhn: tensor([[0.4110, 0.8069, 0.0867, 0.0846],\n",
       "        [0.7601, 0.0552, 0.0650, 0.0578]], device='cuda:0')\n",
       "xyxy: tensor([[220.5758, 458.7403, 272.5902, 509.4942],\n",
       "        [436.5394,  15.7579, 475.5435,  50.4489]], device='cuda:0')\n",
       "xyxyn: tensor([[0.3676, 0.7646, 0.4543, 0.8492],\n",
       "        [0.7276, 0.0263, 0.7926, 0.0841]], device='cuda:0')"
      ]
     },
     "execution_count": 4,
     "metadata": {},
     "output_type": "execute_result"
    }
   ],
   "source": [
    "results[0].boxes"
   ]
  },
  {
   "cell_type": "code",
   "execution_count": 5,
   "metadata": {},
   "outputs": [
    {
     "data": {
      "text/plain": [
       "'results2.jpg'"
      ]
     },
     "execution_count": 5,
     "metadata": {},
     "output_type": "execute_result"
    }
   ],
   "source": [
    "results[0].save(\"results2.jpg\")"
   ]
  }
 ],
 "metadata": {
  "kernelspec": {
   "display_name": "pcb-defect-detection",
   "language": "python",
   "name": "python3"
  },
  "language_info": {
   "codemirror_mode": {
    "name": "ipython",
    "version": 3
   },
   "file_extension": ".py",
   "mimetype": "text/x-python",
   "name": "python",
   "nbconvert_exporter": "python",
   "pygments_lexer": "ipython3",
   "version": "3.11.10"
  }
 },
 "nbformat": 4,
 "nbformat_minor": 2
}
